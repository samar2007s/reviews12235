{
  "nbformat": 4,
  "nbformat_minor": 0,
  "metadata": {
    "colab": {
      "provenance": [],
      "authorship_tag": "ABX9TyO+C1MxAEyRF3OV/V3msocT",
      "include_colab_link": true
    },
    "kernelspec": {
      "name": "python3",
      "display_name": "Python 3"
    },
    "language_info": {
      "name": "python"
    }
  },
  "cells": [
    {
      "cell_type": "markdown",
      "metadata": {
        "id": "view-in-github",
        "colab_type": "text"
      },
      "source": [
        "<a href=\"https://colab.research.google.com/github/samar2007s/reviews12235/blob/main/Interview_Project.ipynb\" target=\"_parent\"><img src=\"https://colab.research.google.com/assets/colab-badge.svg\" alt=\"Open In Colab\"/></a>"
      ]
    },
    {
      "cell_type": "code",
      "execution_count": null,
      "metadata": {
        "id": "Hly9zao069NY"
      },
      "outputs": [],
      "source": [
        "!pip install arabic-reshaper python-bidi\n",
        "\n",
        "!pip install transformers torch --quiet\n"
      ]
    },
    {
      "cell_type": "code",
      "source": [
        "import pandas as pd\n",
        "import matplotlib.pylab as plt\n",
        "import seaborn as sns\n",
        "import numpy as np\n",
        "from wordcloud import WordCloud\n",
        "import re\n",
        "import string\n",
        "from collections import Counter\n",
        "from transformers import pipeline\n",
        "#from transformers import AutoTokenizer, AutoModelForSequenceClassification\n",
        "import torch\n",
        "#from textblob import TextBlob\n",
        "import arabic_reshaper\n",
        "from bidi.algorithm import get_display\n",
        "from sklearn.feature_extraction.text import CountVectorizer\n",
        "from sklearn.decomposition import LatentDirichletAllocation\n",
        "\n",
        "\n",
        "\n",
        "plt.style.use('ggplot')"
      ],
      "metadata": {
        "id": "tQl6zEQd7Pdu"
      },
      "execution_count": null,
      "outputs": []
    },
    {
      "cell_type": "code",
      "source": [
        "df=pd.read_csv('/content/new_customer_200.csv')\n"
      ],
      "metadata": {
        "id": "UzTz9UUn7RTO"
      },
      "execution_count": null,
      "outputs": []
    },
    {
      "cell_type": "code",
      "source": [
        "text = ' '.join(df['review_content'])\n",
        "\n",
        "text = re.sub(r'[^\\w\\s]', '', text)\n",
        "text = re.sub(r'\\d+', '', text)\n",
        "\n",
        "stopwords = set(['و', 'في', 'على', 'من', 'مطعم', 'لديهم', 'ما', 'لا', 'جدا', 'لم', 'كانت', 'كل', 'هذه', 'هو', 'هي', 'بعد', 'قبل'])\n",
        "\n",
        "words = text.split()\n",
        "filtered_words = [word for word in words if word not in stopwords]\n",
        "\n",
        "clean_text = ' '.join(filtered_words)\n",
        "\n",
        "arabic_font_path = '/content/Amiri-Regular.ttf'\n",
        "\n",
        "wordcloud = WordCloud(font_path=arabic_font_path, width=800, height=400, background_color='white').generate(clean_text)\n",
        "\n",
        "plt.figure(figsize=(14, 10))\n",
        "plt.imshow(wordcloud, interpolation='bilinear')\n",
        "plt.axis('off')\n",
        "plt.show()"
      ],
      "metadata": {
        "id": "0IIUlLb87Tzm"
      },
      "execution_count": null,
      "outputs": []
    },
    {
      "cell_type": "code",
      "source": [
        "def clean_text(text):\n",
        "    text = str(text).lower()\n",
        "\n",
        "    text = re.sub(r'[^\\u0600-\\u06FF0-9\\s]', '', text)\n",
        "    return text\n",
        "\n",
        "df['clean_review'] = df['review_content'].apply(clean_text)"
      ],
      "metadata": {
        "id": "V4vlxLlq7V5-"
      },
      "execution_count": null,
      "outputs": []
    },
    {
      "cell_type": "code",
      "source": [
        "sentiment_model = pipeline(\"sentiment-analysis\", model=\"CAMeL-Lab/bert-base-arabic-camelbert-da-sentiment\")\n",
        "\n",
        "df['sentiment'] = df['clean_review'].apply(lambda x: sentiment_model(x)[0]['label'])"
      ],
      "metadata": {
        "id": "a6LVZL0_7Xxf"
      },
      "execution_count": null,
      "outputs": []
    },
    {
      "cell_type": "code",
      "source": [
        "sentiment_counts = df['sentiment'].value_counts()\n",
        "\n",
        "plt.figure(figsize=(8,5))\n",
        "sns.barplot(x=sentiment_counts.index, y=sentiment_counts.values, palette='viridis')\n",
        "\n",
        "title = get_display(arabic_reshaper.reshape('توزيع عدد التعليقات حسب المشاعر'))\n",
        "xlabel = get_display(arabic_reshaper.reshape('المشاعر'))\n",
        "ylabel = get_display(arabic_reshaper.reshape('عدد التعليقات'))\n",
        "\n",
        "plt.title(title)\n",
        "plt.xlabel(xlabel)\n",
        "plt.ylabel(ylabel)\n",
        "plt.show()\n"
      ],
      "metadata": {
        "id": "NEaAwxeu7Zg6"
      },
      "execution_count": null,
      "outputs": []
    },
    {
      "cell_type": "code",
      "source": [
        "sentiment_words = {\n",
        "    sentiment: ' '.join(df[df['sentiment'] == sentiment]['review_content'])\n",
        "    for sentiment in ['positive', 'negative', 'neutral']\n",
        "}\n",
        "\n",
        "for sentiment, text in sentiment_words.items():\n",
        "    wordcloud = WordCloud(\n",
        "        font_path='/content/Amiri-Regular.ttf',\n",
        "        width=800,\n",
        "        height=400,\n",
        "        background_color='white'\n",
        "    ).generate(text)\n",
        "\n",
        "    plt.figure(figsize=(10, 5))\n",
        "    plt.imshow(wordcloud, interpolation='bilinear')\n",
        "    plt.axis('off')\n",
        "    plt.title(f'{sentiment}')\n",
        "    plt.show()"
      ],
      "metadata": {
        "id": "fCPXS4JO7bzo"
      },
      "execution_count": null,
      "outputs": []
    },
    {
      "cell_type": "code",
      "source": [],
      "metadata": {
        "id": "Hg_Hzq4O7dbh"
      },
      "execution_count": null,
      "outputs": []
    },
    {
      "cell_type": "code",
      "source": [],
      "metadata": {
        "id": "piMNIpX47dlA"
      },
      "execution_count": null,
      "outputs": []
    },
    {
      "cell_type": "code",
      "source": [],
      "metadata": {
        "id": "JSrt_CSU7dpN"
      },
      "execution_count": null,
      "outputs": []
    },
    {
      "cell_type": "code",
      "source": [
        "arabic_stopwords = ['في', 'على', 'من', 'إلى', 'مع', 'عن', 'ما', 'لا', 'لم', 'هل', 'كل', 'قد', 'كان']\n",
        "\n",
        "texts = df['review_content'].tolist()\n",
        "\n",
        "vectorizer = CountVectorizer(stop_words=arabic_stopwords, max_df=0.95, min_df=2)\n",
        "X = vectorizer.fit_transform(texts)\n",
        "\n",
        "lda = LatentDirichletAllocation(n_components=4, random_state=42)\n",
        "lda.fit(X)\n",
        "\n",
        "feature_names = vectorizer.get_feature_names_out()\n",
        "\n",
        "def display_topics(model, feature_names, no_top_words):\n",
        "    for topic_idx, topic in enumerate(model.components_):\n",
        "        print(f\"موضوع {topic_idx + 1}:\")\n",
        "        print([feature_names[i] for i in topic.argsort()[:-no_top_words - 1:-1]])\n",
        "\n",
        "display_topics(lda, feature_names, 10)"
      ],
      "metadata": {
        "id": "TQSlI1NJ7eGh"
      },
      "execution_count": null,
      "outputs": []
    },
    {
      "cell_type": "code",
      "source": [
        "negative_texts = df[df['sentiment'] == 'negative']['review_content'].tolist()\n",
        "positive_texts = df[df['sentiment'] == 'positive']['review_content'].tolist()\n",
        "neutral_texts  = df[df['sentiment'] == 'neutral']['review_content'].tolist()"
      ],
      "metadata": {
        "id": "JNtfPJEG7hpq"
      },
      "execution_count": null,
      "outputs": []
    },
    {
      "cell_type": "code",
      "source": [
        "def lda_topics(texts, n_topics=4, n_top_words=10):\n",
        "    vectorizer = CountVectorizer(stop_words=arabic_stopwords, max_df=0.95, min_df=2)\n",
        "    X = vectorizer.fit_transform(texts)\n",
        "\n",
        "    lda = LatentDirichletAllocation(n_components=n_topics, random_state=42)\n",
        "    lda.fit(X)\n",
        "\n",
        "    feature_names = vectorizer.get_feature_names_out()\n",
        "\n",
        "    topics = []\n",
        "    for topic_idx, topic in enumerate(lda.components_):\n",
        "        top_words = [feature_names[i] for i in topic.argsort()[:-n_top_words - 1:-1]]\n",
        "        topics.append(top_words)\n",
        "    return topics"
      ],
      "metadata": {
        "id": "lVliIWEt7kAz"
      },
      "execution_count": null,
      "outputs": []
    },
    {
      "cell_type": "code",
      "source": [
        "negative_topics = lda_topics(negative_texts)\n",
        "positive_topics = lda_topics(positive_texts)\n",
        "neutral_topics  = lda_topics(neutral_texts)\n",
        "\n",
        "print(\"المواضيع للنصوص السلبية:\")\n",
        "for i, t in enumerate(negative_topics, 1):\n",
        "    print(f\"موضوع {i}: {t}\")\n",
        "\n",
        "print(\"\\nالمواضيع للنصوص الإيجابية:\")\n",
        "for i, t in enumerate(positive_topics, 1):\n",
        "    print(f\"موضوع {i}: {t}\")\n",
        "\n",
        "print(\"\\nالمواضيع للنصوص المحايدة :\")\n",
        "for i, t in enumerate(neutral_topics, 1):\n",
        "    print(f\"موضوع {i}: {t}\")"
      ],
      "metadata": {
        "id": "kgNmD2Oh7nMk"
      },
      "execution_count": null,
      "outputs": []
    },
    {
      "cell_type": "code",
      "source": [],
      "metadata": {
        "id": "DuYSwza67n4j"
      },
      "execution_count": null,
      "outputs": []
    },
    {
      "cell_type": "code",
      "source": [],
      "metadata": {
        "id": "1cXcAm2Y7qCr"
      },
      "execution_count": null,
      "outputs": []
    },
    {
      "cell_type": "code",
      "source": [],
      "metadata": {
        "id": "QNX28KqV7qFi"
      },
      "execution_count": null,
      "outputs": []
    },
    {
      "cell_type": "code",
      "source": [
        "avg_rating = df['star'].mean()\n",
        "print(\"متوسط تقييم العملاء:\", avg_rating)\n",
        "\n",
        "avg_rating_by_branch = df.groupby('branch')['star'].mean()\n",
        "\n",
        "print(f\"متوسط تقييم العملاء حسب الفرع: {avg_rating_by_branch}\")"
      ],
      "metadata": {
        "id": "-oAUt9tj7qIr"
      },
      "execution_count": null,
      "outputs": []
    },
    {
      "cell_type": "code",
      "source": [
        "daily_ratings = df.groupby('date')['star'].mean().reset_index()\n",
        "\n",
        "title = get_display(arabic_reshaper.reshape('متوسط التقييم اليومي'))\n",
        "xlabel = get_display(arabic_reshaper.reshape('اليوم'))\n",
        "ylabel = get_display(arabic_reshaper.reshape('متوسط التقييم'))\n",
        "\n",
        "plt.figure(figsize=(8,5))\n",
        "plt.plot(daily_ratings['date'], daily_ratings['star'], marker='o', linestyle='-')\n",
        "plt.title(title)\n",
        "plt.xlabel(xlabel)\n",
        "plt.ylabel(ylabel)\n",
        "plt.xticks(rotation=45)\n",
        "plt.grid(True)\n",
        "plt.show()"
      ],
      "metadata": {
        "id": "TX2PXGJw7sT8"
      },
      "execution_count": null,
      "outputs": []
    },
    {
      "cell_type": "code",
      "source": [
        "daily_ratings_branch= df.groupby(['date', 'branch'])['star'].mean().reset_index()\n",
        "\n",
        "branches = daily_ratings_branch['branch'].unique()\n",
        "fig, axes = plt.subplots(len(branches), 1, figsize=(8, 4*len(branches)), sharex=True)\n",
        "\n",
        "if len(branches) == 1:\n",
        "    axes = [axes]\n",
        "\n",
        "for ax, branch in zip(axes, branches):\n",
        "    branch_data = daily_ratings_branch[daily_ratings_branch['branch'] == branch]\n",
        "    ax.plot(branch_data['date'], branch_data['star'], marker='o', linestyle='-')\n",
        "    ax.set_title(get_display(arabic_reshaper.reshape(f'متوسط التقييم اليومي - فرع {branch}')))\n",
        "    ax.set_ylabel(get_display(arabic_reshaper.reshape('متوسط التقييم')))\n",
        "    ax.grid(True)\n",
        "\n",
        "plt.xlabel(get_display(arabic_reshaper.reshape('اليوم')))\n",
        "plt.xticks(rotation=45)\n",
        "plt.tight_layout()\n",
        "plt.show()"
      ],
      "metadata": {
        "id": "Z6fPO5T97uum"
      },
      "execution_count": null,
      "outputs": []
    }
  ]
}